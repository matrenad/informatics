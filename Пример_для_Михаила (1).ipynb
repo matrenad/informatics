{
 "cells": [
  {
   "cell_type": "markdown",
   "id": "135d99da-7eab-450b-b535-2dc34ca89221",
   "metadata": {},
   "source": [
    "Если я подчеркну 1 раз, то это принятое соглашение в Python, что данный атрибут не является частью публичного интерфейса класса и его не следует использовать напрямую за его пределами. НО!!! ничего не мешает мне получить доступ к _owner из кода вне класса"
   ]
  },
  {
   "cell_type": "code",
   "execution_count": null,
   "id": "de4b40c0-99ad-4a64-8855-347711b3760f",
   "metadata": {},
   "outputs": [],
   "source": [
    "class HomeCat():\n",
    "    def __init__(self, name, owner):\n",
    "        self.name = name\n",
    "        self._owner = owner\n",
    "  \n",
    "    @property\n",
    "    def owner(self):\n",
    "        return self._owner\n",
    "\n",
    "cat = HomeCat('Лола','Оля')\n",
    "\n",
    "print(cat.owner)\n",
    "print(cat.name)\n",
    "cat.name = 'Лили'\n",
    "print(cat.name)\n",
    "cat._owner = 'Елена'\n",
    "print(cat.owner)\n",
    "cat.owner = 'Палина'\n",
    "print(cat.owner)"
   ]
  },
  {
   "cell_type": "markdown",
   "id": "fd2139cb-cb6b-4343-9e5a-893e32608a5d",
   "metadata": {},
   "source": [
    "Теперь подчеркну 2 раза. Это активирует механизм \"name mangling\" (искажение имени), при котором имя атрибута автоматически преобразуется в уникальное: _<ИмяКласса>__<ИмяАтрибута> (например, _HomeCat__owner).\n",
    "Это защищает атрибут от случайного или преднамеренного доступа извне."
   ]
  },
  {
   "cell_type": "code",
   "execution_count": null,
   "id": "9019e6b4-e8ef-443a-b555-c5c52e442991",
   "metadata": {},
   "outputs": [],
   "source": [
    "class HomeCat():\n",
    "    def __init__(self, name, owner):\n",
    "        self.name = name\n",
    "        self.__owner = owner\n",
    "  \n",
    "    @property\n",
    "    def owner(self):\n",
    "        return self.__owner\n",
    "\n",
    "cat = HomeCat('Лола','Оля')\n",
    "\n",
    "print(cat.owner)\n",
    "print(cat.name)\n",
    "cat.name = 'Лили'\n",
    "print(cat.name)\n",
    "print(cat.__owner)"
   ]
  },
  {
   "cell_type": "code",
   "execution_count": null,
   "id": "ae67fc75-4cb7-4ef1-807c-aaa4dca624d2",
   "metadata": {},
   "outputs": [],
   "source": [
    "cat.__owner = 'Елена'\n",
    "print(cat.owner)\n",
    "print(cat.__owner)\n",
    "print(cat._HomeCat__owner) \n",
    "cat.owner = 'Палина'\n",
    "print(cat.owner)"
   ]
  },
  {
   "cell_type": "code",
   "execution_count": null,
   "id": "6e56eec7-b9c7-42a9-8244-5d37aaf8cd7a",
   "metadata": {},
   "outputs": [],
   "source": [
    "cat._HomeCat__owner = 'Павел'\n",
    "print(cat._HomeCat__owner) \n",
    "print(cat.owner)"
   ]
  },
  {
   "cell_type": "markdown",
   "id": "922fc74b-5bd3-4dff-9552-ca8969d243bf",
   "metadata": {},
   "source": [
    "Вывод: двойное подчеркивание - строгое ограничение, одинарное - не строгое."
   ]
  },
  {
   "cell_type": "markdown",
   "id": "d8c28d0e-cde1-4bfe-8c24-b8b238f00365",
   "metadata": {},
   "source": [
    "Бонус :)"
   ]
  },
  {
   "cell_type": "code",
   "execution_count": null,
   "id": "2df2ebd7-1e0f-4240-9cc1-ec47330763db",
   "metadata": {},
   "outputs": [],
   "source": [
    "class HomeCat():\n",
    "    def __init__(self, name, owner):\n",
    "        self.name = name\n",
    "        self.newowner = owner\n",
    "  \n",
    "    @property\n",
    "    def owner(self):\n",
    "        return self.newowner\n",
    "\n",
    "cat = HomeCat('Лола','Оля')\n",
    "\n",
    "print(cat.owner)\n",
    "print(cat.name)\n",
    "cat.name = 'Лили'\n",
    "print(cat.name)\n",
    "cat.newowner = 'Елена'\n",
    "print(cat.owner)\n",
    "cat.owner = 'Палина'\n",
    "print(cat.owner)"
   ]
  },
  {
   "cell_type": "code",
   "execution_count": null,
   "id": "ac551dd0-2611-497d-92d9-453d3453506c",
   "metadata": {},
   "outputs": [],
   "source": [
    "class HomeCat():\n",
    "    def __init__(self, name, owner):\n",
    "        self.name = name\n",
    "        self._owner = owner\n",
    "  \n",
    "    @property\n",
    "    def owner(self):\n",
    "        return self._owner\n",
    "\n",
    "class Kitten(HomeCat):\n",
    "    def __init__(self, name, owner, color):\n",
    "        super().__init__(name, owner)\n",
    "        self.color = color\n",
    "\n",
    "    def meow(self):\n",
    "        print(f\"{self.name} says meow!\")\n",
    "\n",
    "cat = HomeCat('Лола', 'Оля')\n",
    "\n",
    "print(cat.owner)\n",
    "print(cat.name)\n",
    "cat.name = 'Лили'\n",
    "print(cat.name)\n",
    "cat._owner = 'Елена'\n",
    "print(cat.owner)\n",
    "cat.owner = 'Палина' "
   ]
  },
  {
   "cell_type": "code",
   "execution_count": null,
   "id": "652d2303-fe76-44ff-a9b2-07ff87552060",
   "metadata": {},
   "outputs": [],
   "source": [
    "kitten = Kitten('Лили', 'Маша', 'серая')\n",
    "print(kitten.owner)\n",
    "kitten._owner = 'Елена'\n",
    "print(kitten.owner)\n",
    "kitten.owner = 'Палина' "
   ]
  },
  {
   "cell_type": "code",
   "execution_count": null,
   "id": "c4344ce1-2f53-45f5-9b84-f23fd1c84a35",
   "metadata": {},
   "outputs": [],
   "source": [
    "class HomeCat():\n",
    "    def __init__(self, name, owner):\n",
    "        self.name = name\n",
    "        self.__owner = owner\n",
    "  \n",
    "    @property\n",
    "    def owner(self):\n",
    "        return self.__owner\n",
    "\n",
    "class Kitten(HomeCat):\n",
    "    def __init__(self, name, owner, color):\n",
    "        super().__init__(name, owner)\n",
    "        self.color = color\n",
    "\n",
    "    def meow(self):\n",
    "        print(f\"{self.name} says meow!\")\n",
    "\n",
    "kitten = Kitten('Лили', 'Маша', 'серая')\n",
    "print(kitten.owner)\n",
    "kitten._owner = 'Елена'\n",
    "print(kitten._owner)\n",
    "print(kitten.owner)\n",
    "print(id(kitten._owner))\n",
    "print(id(kitten.owner))\n",
    "kitten._HomeCat__owner = 'Павел'\n",
    "print(kitten._HomeCat__owner) \n",
    "print(id(kitten._HomeCat__owner))\n",
    "print(kitten.owner)\n",
    "kitten.__owner = 'Палина' \n",
    "print(kitten.owner)\n",
    "kitten.owner = 'Палина' \n"
   ]
  }
 ],
 "metadata": {
  "kernelspec": {
   "display_name": "Python 3 (ipykernel)",
   "language": "python",
   "name": "python3"
  },
  "language_info": {
   "codemirror_mode": {
    "name": "ipython",
    "version": 3
   },
   "file_extension": ".py",
   "mimetype": "text/x-python",
   "name": "python",
   "nbconvert_exporter": "python",
   "pygments_lexer": "ipython3",
   "version": "3.11.7"
  }
 },
 "nbformat": 4,
 "nbformat_minor": 5
}
